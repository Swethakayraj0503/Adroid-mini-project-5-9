{
  "nbformat": 4,
  "nbformat_minor": 0,
  "metadata": {
    "colab": {
      "provenance": []
    },
    "kernelspec": {
      "name": "python3",
      "display_name": "Python 3"
    },
    "language_info": {
      "name": "python"
    }
  },
  "cells": [
    {
      "cell_type": "code",
      "execution_count": 1,
      "metadata": {
        "colab": {
          "base_uri": "https://localhost:8080/"
        },
        "id": "vOxhmzJa2rS_",
        "outputId": "3a251154-5cc8-4d14-b212-0e79b366d963"
      },
      "outputs": [
        {
          "output_type": "stream",
          "name": "stdout",
          "text": [
            "Collecting pyqrcode\n",
            "  Downloading PyQRCode-1.2.1.zip (41 kB)\n",
            "\u001b[2K     \u001b[90m━━━━━━━━━━━━━━━━━━━━━━━━━━━━━━━━━━━━━━━━\u001b[0m \u001b[32m41.9/41.9 kB\u001b[0m \u001b[31m1.2 MB/s\u001b[0m eta \u001b[36m0:00:00\u001b[0m\n",
            "\u001b[?25h  Preparing metadata (setup.py) ... \u001b[?25l\u001b[?25hdone\n",
            "Collecting pypng\n",
            "  Downloading pypng-0.20220715.0-py3-none-any.whl (58 kB)\n",
            "\u001b[2K     \u001b[90m━━━━━━━━━━━━━━━━━━━━━━━━━━━━━━━━━━━━━━━━\u001b[0m \u001b[32m58.1/58.1 kB\u001b[0m \u001b[31m5.1 MB/s\u001b[0m eta \u001b[36m0:00:00\u001b[0m\n",
            "\u001b[?25hBuilding wheels for collected packages: pyqrcode\n",
            "  Building wheel for pyqrcode (setup.py) ... \u001b[?25l\u001b[?25hdone\n",
            "  Created wheel for pyqrcode: filename=PyQRCode-1.2.1-py3-none-any.whl size=36223 sha256=1230049a01278a3a039f53a6794aa1f87e87d15d8d82fe60f45149e0849ae957\n",
            "  Stored in directory: /root/.cache/pip/wheels/34/2d/20/082874e49a32cdcc87ebaf99dd0099fb7774ef30f010dfb6f2\n",
            "Successfully built pyqrcode\n",
            "Installing collected packages: pyqrcode, pypng\n",
            "Successfully installed pypng-0.20220715.0 pyqrcode-1.2.1\n"
          ]
        }
      ],
      "source": [
        "!pip install pyqrcode pypng"
      ]
    },
    {
      "cell_type": "code",
      "source": [
        "\n",
        "\n",
        "# Import the necessary module!\n",
        "import pyqrcode\n",
        "\n",
        "# Define the data:\n",
        "# We need some text that we want to convert as our QR Code.\n",
        "data = \"https://github.com/Swethakayraj0503\"\n",
        "\n",
        "# Create qrcode:\n",
        "qr = pyqrcode.create(data)\n",
        "\n",
        "# Now let's store it in .png format with proper scaling.\n",
        "qr.png(\"QR.png\", scale= 5)"
      ],
      "metadata": {
        "id": "m7lYBF252sLY"
      },
      "execution_count": 2,
      "outputs": []
    },
    {
      "cell_type": "code",
      "source": [],
      "metadata": {
        "id": "-yMLhbHZ24ME"
      },
      "execution_count": null,
      "outputs": []
    }
  ]
}